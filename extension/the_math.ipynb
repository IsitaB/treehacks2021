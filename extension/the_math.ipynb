{
 "cells": [
  {
   "cell_type": "code",
   "execution_count": 45,
   "metadata": {},
   "outputs": [],
   "source": [
    "import gensim\n",
    "import string\n",
    "\n",
    "materials = \"Cashmere, 100% polyester 50%\"\n",
    "details = \"Product Dimensions : 12.5 x 11.5 x 0.25 inches; 4.16 Ounces\\nItem model number : CA-H20-UXS-PLAID\\nDepartment : Unisex-adult\\nDate First Available : December 7, 2020\\nASIN : B08PYM3Y5V\"\n",
    "\n",
    "def remove_punc(text):\n",
    "    text.strip()\n",
    "    text = [char for char in text if char not in string.punctuation]\n",
    "    text = ''.join(text).lower()\n",
    "    return text\n",
    "\n",
    "def materialToPercentage(materials):\n",
    "    materials = remove_punc(materials)\n",
    "    materialsList = materials.split(\" \")\n",
    "    materialToPercentage = {}\n",
    "    print()\n",
    "    for i in range(0, len(materialsList),2):\n",
    "        perc = int(materialsList[i + 1])/100\n",
    "        materialToPercentage[materialsList[i]] = perc\n",
    "    return materialToPercentage\n",
    "\n",
    "def getWeightFromDescript(text):\n",
    "    weightStr = ''\n",
    "    details = text.split(\"\\n\")\n",
    "    for detail in details:\n",
    "        detail = str(detail)\n",
    "        if str(detail).startswith(\"Product Dimensions\"):\n",
    "            detail = detail.split(\";\")[1].strip()\n",
    "            weightStr = detail.lower()\n",
    "            break\n",
    "    weight, units = weightStr.split(' ')\n",
    "    return {float(weight) : units}"
   ]
  },
  {
   "cell_type": "code",
   "execution_count": 46,
   "metadata": {},
   "outputs": [
    {
     "name": "stdout",
     "output_type": "stream",
     "text": [
      "\n",
      "{'cashmere': 1.0, 'polyester': 0.5}\n"
     ]
    }
   ],
   "source": [
    "\n",
    "\n",
    "print(materialToPercentage(materials))\n",
    "\n"
   ]
  },
  {
   "cell_type": "code",
   "execution_count": 89,
   "metadata": {},
   "outputs": [],
   "source": [
    "string.punctuation\n",
    "\n",
    "def stringToKg(weightStr):\n",
    "    weight, units = weightStr.split(' ')\n",
    "    weight = float(weight)\n",
    "    units = units.lower().strip()\n",
    "#     kg = int(weight)\n",
    "    if units == 'pounds':\n",
    "        kg = weight/2.204\n",
    "    elif units == 'ounces' or units == 'oz':\n",
    "        kg = weight/35.274\n",
    "    return kg\n",
    "\n",
    "#assumming loads converts it to a dictionary\n",
    "\n",
    "weight = \"14.6 Ounces\"#from json file\n",
    "weight = stringToKg(weight)\n",
    "\n",
    "totalEm = 0\n",
    "for fabric in fabrics:\n",
    "    # key is fabric; val is percentage\n",
    "    percentage = fabrics[fabric]\n",
    "    materialEm = db.collection('Textiles').document(fabric).get(\"CarbonEmission\")\n",
    "    totalEm += percentage * weight * materialEm\n",
    "    \n"
   ]
  },
  {
   "cell_type": "code",
   "execution_count": 90,
   "metadata": {},
   "outputs": [
    {
     "data": {
      "text/plain": [
       "0.4139025911436185"
      ]
     },
     "execution_count": 90,
     "metadata": {},
     "output_type": "execute_result"
    }
   ],
   "source": []
  },
  {
   "cell_type": "code",
   "execution_count": null,
   "metadata": {},
   "outputs": [],
   "source": []
  }
 ],
 "metadata": {
  "kernelspec": {
   "display_name": "cs185c",
   "language": "python",
   "name": "cs185c"
  },
  "language_info": {
   "codemirror_mode": {
    "name": "ipython",
    "version": 3
   },
   "file_extension": ".py",
   "mimetype": "text/x-python",
   "name": "python",
   "nbconvert_exporter": "python",
   "pygments_lexer": "ipython3",
   "version": "3.7.9"
  }
 },
 "nbformat": 4,
 "nbformat_minor": 2
}
