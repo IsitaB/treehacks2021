{
 "cells": [
  {
   "cell_type": "code",
   "execution_count": 45,
   "metadata": {},
   "outputs": [],
   "source": [
    "import gensim\n",
    "import string\n",
    "\n",
    "materials = \"Cashmere, 100% polyester 50%\"\n",
    "details = \"Product Dimensions : 12.5 x 11.5 x 0.25 inches; 4.16 Ounces\\nItem model number : CA-H20-UXS-PLAID\\nDepartment : Unisex-adult\\nDate First Available : December 7, 2020\\nASIN : B08PYM3Y5V\"\n",
    "\n",
    "def remove_punc(text):\n",
    "    text.strip()\n",
    "    text = [char for char in text if char not in string.punctuation]\n",
    "    text = ''.join(text).lower()\n",
    "    return text\n",
    "\n",
    "def materialToPercentage(materials):\n",
    "    materials = remove_punc(materials)\n",
    "    materialsList = materials.split(\" \")\n",
    "    materialToPercentage = {}\n",
    "    print()\n",
    "    for i in range(0, len(materialsList),2):\n",
    "        perc = int(materialsList[i + 1])/100\n",
    "        materialToPercentage[materialsList[i]] = perc\n",
    "    return materialToPercentage\n",
    "\n"
   ]
  },
  {
   "cell_type": "code",
   "execution_count": 46,
   "metadata": {},
   "outputs": [
    {
     "name": "stdout",
     "output_type": "stream",
     "text": [
      "\n",
      "{'cashmere': 1.0, 'polyester': 0.5}\n"
     ]
    }
   ],
   "source": [
    "\n",
    "\n",
    "print(materialToPercentage(materials))\n",
    "\n"
   ]
  },
  {
   "cell_type": "code",
   "execution_count": 44,
   "metadata": {},
   "outputs": [
    {
     "data": {
      "text/plain": [
       "'!\"#$%&\\'()*+,-./:;<=>?@[\\\\]^_`{|}~'"
      ]
     },
     "execution_count": 44,
     "metadata": {},
     "output_type": "execute_result"
    }
   ],
   "source": [
    "string.punctuation"
   ]
  },
  {
   "cell_type": "code",
   "execution_count": null,
   "metadata": {},
   "outputs": [],
   "source": []
  }
 ],
 "metadata": {
  "kernelspec": {
   "display_name": "cs185c",
   "language": "python",
   "name": "cs185c"
  },
  "language_info": {
   "codemirror_mode": {
    "name": "ipython",
    "version": 3
   },
   "file_extension": ".py",
   "mimetype": "text/x-python",
   "name": "python",
   "nbconvert_exporter": "python",
   "pygments_lexer": "ipython3",
   "version": "3.7.9"
  }
 },
 "nbformat": 4,
 "nbformat_minor": 2
}
